{
 "cells": [
  {
   "cell_type": "code",
   "execution_count": 1,
   "metadata": {},
   "outputs": [],
   "source": [
    "import pandas as pd\n",
    "from sklearn.ensemble import GradientBoostingRegressor\n",
    "from sklearn.neural_network import MLPRegressor\n",
    "from sklearn.svm import SVR\n",
    "import numpy as np\n",
    "import matplotlib.pyplot as plt"
   ]
  },
  {
   "cell_type": "code",
   "execution_count": 2,
   "metadata": {},
   "outputs": [],
   "source": [
    "class DataPrep:\n",
    "    data = [{'x': -1, 'y': -1},\n",
    "            {'x': -1, 'y': 1},\n",
    "            {'x': 0, 'y': 1},\n",
    "            {'x': 0, 'y': 3},\n",
    "            {'x': 1, 'y': -1},\n",
    "            {'x': 1, 'y': -3}] \n",
    "    @classmethod\n",
    "    def gen_df(cls):\n",
    "        return pd.DataFrame(cls.data)"
   ]
  },
  {
   "cell_type": "code",
   "execution_count": 8,
   "metadata": {},
   "outputs": [],
   "source": [
    "class ModelFitting:\n",
    "    def __init__(self, df):\n",
    "        self.mdl = SVR()\n",
    "        self.mdl.fit(df[['x']], df['y'])\n",
    "    \n",
    "    def _predict(self, df):\n",
    "        return self.mdl.predict(df[['x']])\n",
    "\n",
    "    @staticmethod\n",
    "    def _diff_calc(y1,y2):\n",
    "        return np.sum((y1-y2)**2)\n",
    "\n",
    "    def eval(self, df):\n",
    "        y_hat = self._predict(df)\n",
    "        y_bar = np.mean(df['y'])\n",
    "        y_i = np.array(df['y'])\n",
    "        SST = self._diff_calc(y_i, y_bar)\n",
    "        SSE = self._diff_calc(y_i, y_hat)\n",
    "        SSR = self._diff_calc(y_hat, y_bar)\n",
    "        return SSR, SSE, SST\n",
    "    \n",
    "    def plot(self,df):\n",
    "        df.plot.scatter(x='x',y='y',c='DarkBlue')\n",
    "        x = np.array(range(np.min(df['x'])-1,np.max(df['x'])+2)).reshape(-1, 1)\n",
    "        y = self.mdl.predict(x)\n",
    "        plt.plot(x,y)"
   ]
  },
  {
   "cell_type": "code",
   "execution_count": 9,
   "metadata": {},
   "outputs": [
    {
     "name": "stderr",
     "output_type": "stream",
     "text": [
      "/home/charles/anaconda3/lib/python3.7/site-packages/sklearn/svm/base.py:193: FutureWarning: The default value of gamma will change from 'auto' to 'scale' in version 0.22 to account better for unscaled features. Set gamma explicitly to 'auto' or 'scale' to avoid this warning.\n",
      "  \"avoid this warning.\", FutureWarning)\n"
     ]
    }
   ],
   "source": [
    "df = DataPrep.gen_df()\n",
    "mdl_fitting = ModelFitting(df)\n",
    "SSR, SSE, SST = mdl_fitting.eval(df)"
   ]
  },
  {
   "cell_type": "code",
   "execution_count": 10,
   "metadata": {},
   "outputs": [
    {
     "data": {
      "image/png": "[encoded data removed]",
      "text/plain": [
       "<Figure size 432x288 with 1 Axes>"
      ]
     },
     "metadata": {
      "needs_background": "light"
     },
     "output_type": "display_data"
    }
   ],
   "source": [
    "mdl_fitting.plot(df)"
   ]
  },
  {
   "cell_type": "code",
   "execution_count": 11,
   "metadata": {},
   "outputs": [
    {
     "data": {
      "text/plain": [
       "22.0"
      ]
     },
     "execution_count": 11,
     "metadata": {},
     "output_type": "execute_result"
    }
   ],
   "source": [
    "SST"
   ]
  },
  {
   "cell_type": "code",
   "execution_count": 12,
   "metadata": {},
   "outputs": [
    {
     "data": {
      "text/plain": [
       "11.335413691859987"
      ]
     },
     "execution_count": 12,
     "metadata": {},
     "output_type": "execute_result"
    }
   ],
   "source": [
    "SSE"
   ]
  },
  {
   "cell_type": "code",
   "execution_count": 13,
   "metadata": {},
   "outputs": [
    {
     "data": {
      "text/plain": [
       "3.735413900295664"
      ]
     },
     "execution_count": 13,
     "metadata": {},
     "output_type": "execute_result"
    }
   ],
   "source": [
    "SSR"
   ]
  },
  {
   "cell_type": "code",
   "execution_count": 14,
   "metadata": {},
   "outputs": [
    {
     "data": {
      "text/plain": [
       "15.070827592155652"
      ]
     },
     "execution_count": 14,
     "metadata": {},
     "output_type": "execute_result"
    }
   ],
   "source": [
    "SSE+SSR"
   ]
  },
  {
   "cell_type": "code",
   "execution_count": null,
   "metadata": {},
   "outputs": [],
   "source": []
  }
 ],
 "metadata": {
  "kernelspec": {
   "display_name": "Python 3",
   "language": "python",
   "name": "python3"
  },
  "language_info": {
   "codemirror_mode": {
    "name": "ipython",
    "version": 3
   },
   "file_extension": ".py",
   "mimetype": "text/x-python",
   "name": "python",
   "nbconvert_exporter": "python",
   "pygments_lexer": "ipython3",
   "version": "3.7.4"
  }
 },
 "nbformat": 4,
 "nbformat_minor": 2
}
